{
 "cells": [
  {
   "cell_type": "code",
   "execution_count": 4,
   "metadata": {
    "_cell_guid": "b1076dfc-b9ad-4769-8c92-a6c4dae69d19",
    "_uuid": "8f2839f25d086af736a60e9eeb907d3b93b6e0e5",
    "execution": {
     "iopub.execute_input": "2024-12-03T14:02:45.963700Z",
     "iopub.status.busy": "2024-12-03T14:02:45.963286Z",
     "iopub.status.idle": "2024-12-03T14:02:50.183645Z",
     "shell.execute_reply": "2024-12-03T14:02:50.182879Z",
     "shell.execute_reply.started": "2024-12-03T14:02:45.963654Z"
    },
    "trusted": true
   },
   "outputs": [],
   "source": [
    "import os\n",
    "import torch\n",
    "import torch.nn as nn\n",
    "import torch.optim as optim\n",
    "from torchvision import transforms\n",
    "from torch.utils.data import Dataset, DataLoader\n",
    "from PIL import Image\n",
    "import matplotlib.pyplot as plt"
   ]
  },
  {
   "cell_type": "code",
   "execution_count": 5,
   "metadata": {
    "_cell_guid": "b1076dfc-b9ad-4769-8c92-a6c4dae69d19",
    "_uuid": "8f2839f25d086af736a60e9eeb907d3b93b6e0e5",
    "execution": {
     "iopub.execute_input": "2024-12-03T14:02:50.185170Z",
     "iopub.status.busy": "2024-12-03T14:02:50.184711Z",
     "iopub.status.idle": "2024-12-03T14:02:50.253825Z",
     "shell.execute_reply": "2024-12-03T14:02:50.252923Z",
     "shell.execute_reply.started": "2024-12-03T14:02:50.185131Z"
    },
    "trusted": true
   },
   "outputs": [],
   "source": [
    "# Define constants\n",
    "IMG_SIZE = 256\n",
    "BATCH_SIZE = 16\n",
    "EPOCHS = 50\n",
    "LEARNING_RATE = 0.0002\n",
    "DEVICE = torch.device(\"cuda\" if torch.cuda.is_available() else \"cpu\")"
   ]
  },
  {
   "cell_type": "code",
   "execution_count": 6,
   "metadata": {
    "execution": {
     "iopub.execute_input": "2024-12-03T14:02:50.256900Z",
     "iopub.status.busy": "2024-12-03T14:02:50.256215Z",
     "iopub.status.idle": "2024-12-03T14:02:50.280483Z",
     "shell.execute_reply": "2024-12-03T14:02:50.279754Z",
     "shell.execute_reply.started": "2024-12-03T14:02:50.256860Z"
    },
    "trusted": true
   },
   "outputs": [],
   "source": [
    "import os\n",
    "from PIL import Image\n",
    "\n",
    "def load_dataset(base_dir):\n",
    "    \"\"\"\n",
    "    Load the dataset from a directory structure where each folder contains 3 images:\n",
    "    frame1 (start frame), frame2 (middle frame), and frame3 (end frame).\n",
    "    \n",
    "    Args:\n",
    "        base_dir (str): Path to the root directory containing subfolders with images.\n",
    "        \n",
    "    Returns:\n",
    "        list: A list of tuples where each tuple contains the paths to frame1, frame2, and frame3.\n",
    "    \"\"\"\n",
    "    dataset = []\n",
    "    \n",
    "    # Traverse through each folder in the base directory\n",
    "    for folder_name in os.listdir(base_dir):\n",
    "        folder_path = os.path.join(base_dir, folder_name)\n",
    "        \n",
    "        # Skip if not a directory\n",
    "        if not os.path.isdir(folder_path):\n",
    "            continue\n",
    "        \n",
    "        # Construct paths to the images\n",
    "        frame1_path = os.path.join(folder_path, \"frame1.jpg\")\n",
    "        frame2_path = os.path.join(folder_path, \"frame2.jpg\")\n",
    "        frame3_path = os.path.join(folder_path, \"frame3.jpg\")\n",
    "        \n",
    "        # Check if all required files exist\n",
    "        if os.path.exists(frame1_path) and os.path.exists(frame2_path) and os.path.exists(frame3_path):\n",
    "            dataset.append((frame1_path, frame2_path, frame3_path))\n",
    "        else:\n",
    "            print(f\"Missing files in folder: {folder_name}\")\n",
    "    \n",
    "    return dataset\n",
    "\n",
    "\n",
    "def load_images(image_paths):\n",
    "    \"\"\"\n",
    "    Load images from the provided paths using PIL.\n",
    "    \n",
    "    Args:\n",
    "        image_paths (list): List of tuples containing paths to frame1, frame2, and frame3.\n",
    "        \n",
    "    Returns:\n",
    "        list: A list of tuples containing the loaded images.\n",
    "    \"\"\"\n",
    "    images = []\n",
    "    \n",
    "    for frame1_path, frame2_path, frame3_path in image_paths:\n",
    "        try:\n",
    "            # Open images using PIL\n",
    "            frame1 = Image.open(frame1_path)\n",
    "            frame2 = Image.open(frame2_path)\n",
    "            frame3 = Image.open(frame3_path)\n",
    "            \n",
    "            # Append the loaded images as a tuple\n",
    "            images.append((frame1, frame2, frame3))\n",
    "        except Exception as e:\n",
    "            print(f\"Error loading images: {e}\")\n",
    "    \n",
    "    return images"
   ]
  },
  {
   "cell_type": "code",
   "execution_count": 7,
   "metadata": {
    "_cell_guid": "b1076dfc-b9ad-4769-8c92-a6c4dae69d19",
    "_uuid": "8f2839f25d086af736a60e9eeb907d3b93b6e0e5",
    "execution": {
     "iopub.execute_input": "2024-12-03T14:02:50.282015Z",
     "iopub.status.busy": "2024-12-03T14:02:50.281726Z",
     "iopub.status.idle": "2024-12-03T14:02:50.297186Z",
     "shell.execute_reply": "2024-12-03T14:02:50.296334Z",
     "shell.execute_reply.started": "2024-12-03T14:02:50.281981Z"
    },
    "trusted": true
   },
   "outputs": [],
   "source": [
    "# Dataset Class\n",
    "class FrameDataset(Dataset):\n",
    "    def __init__(self, image_paths, transform=None):\n",
    "        self.image_paths = image_paths\n",
    "        self.transform = transform\n",
    "\n",
    "    def __len__(self):\n",
    "        return len(self.image_paths)\n",
    "\n",
    "    def __getitem__(self, idx):\n",
    "        frame1_path, frame2_path, frame3_path = self.image_paths[idx]\n",
    "        frame1 = Image.open(frame1_path)\n",
    "        frame2 = Image.open(frame2_path)\n",
    "        frame3 = Image.open(frame3_path)\n",
    "        \n",
    "        if self.transform:\n",
    "            frame1 = self.transform(frame1)\n",
    "            frame2 = self.transform(frame2)\n",
    "            frame3 = self.transform(frame3)\n",
    "        \n",
    "        return frame1, frame2, frame3\n",
    "\n",
    "# Define the generator (UNet-based)\n",
    "class Generator(nn.Module):\n",
    "    def __init__(self):\n",
    "        super(Generator, self).__init__()\n",
    "        self.encoder = nn.Sequential(\n",
    "            nn.Conv2d(6, 64, kernel_size=4, stride=2, padding=1), nn.ReLU(),\n",
    "            nn.Conv2d(64, 128, kernel_size=4, stride=2, padding=1), nn.ReLU(),\n",
    "            nn.Conv2d(128, 256, kernel_size=4, stride=2, padding=1), nn.ReLU()\n",
    "        )\n",
    "        self.decoder = nn.Sequential(\n",
    "            nn.ConvTranspose2d(256, 128, kernel_size=4, stride=2, padding=1), nn.ReLU(),\n",
    "            nn.ConvTranspose2d(128, 64, kernel_size=4, stride=2, padding=1), nn.ReLU(),\n",
    "            nn.ConvTranspose2d(64, 3, kernel_size=4, stride=2, padding=1), nn.Sigmoid()\n",
    "        )\n",
    "\n",
    "    def forward(self, frame1, frame3):\n",
    "        x = torch.cat((frame1, frame3), dim=1)  # Concatenate along channel dimension\n",
    "        x = self.encoder(x)\n",
    "        x = self.decoder(x)\n",
    "        return x\n",
    "\n",
    "# Define the discriminator\n",
    "class Discriminator(nn.Module):\n",
    "    def __init__(self):\n",
    "        super(Discriminator, self).__init__()\n",
    "        self.model = nn.Sequential(\n",
    "            nn.Conv2d(3, 64, kernel_size=4, stride=2, padding=1), nn.LeakyReLU(0.2),\n",
    "            nn.Conv2d(64, 128, kernel_size=4, stride=2, padding=1), nn.LeakyReLU(0.2),\n",
    "            nn.Conv2d(128, 256, kernel_size=4, stride=2, padding=1), nn.LeakyReLU(0.2),\n",
    "            nn.Flatten(),\n",
    "            nn.Linear(256 * (IMG_SIZE // 8) * (IMG_SIZE // 8), 1), nn.Sigmoid()\n",
    "        )\n",
    "\n",
    "    def forward(self, x):\n",
    "        return self.model(x)"
   ]
  },
  {
   "cell_type": "code",
   "execution_count": 8,
   "metadata": {
    "_cell_guid": "b1076dfc-b9ad-4769-8c92-a6c4dae69d19",
    "_uuid": "8f2839f25d086af736a60e9eeb907d3b93b6e0e5",
    "execution": {
     "iopub.execute_input": "2024-12-03T14:02:50.298839Z",
     "iopub.status.busy": "2024-12-03T14:02:50.298442Z",
     "iopub.status.idle": "2024-12-03T14:02:50.313487Z",
     "shell.execute_reply": "2024-12-03T14:02:50.312680Z",
     "shell.execute_reply.started": "2024-12-03T14:02:50.298802Z"
    },
    "trusted": true
   },
   "outputs": [],
   "source": [
    "# Loss Functions\n",
    "adversarial_loss = nn.BCELoss().to(DEVICE)\n",
    "reconstruction_loss = nn.L1Loss().to(DEVICE)\n",
    "\n",
    "# Training Loop with Loss, Accuracy Tracking, and Model Saving\n",
    "def train(generator, discriminator, dataloader, epochs, optimizer_G, optimizer_D, save_path):\n",
    "    generator.train()\n",
    "    discriminator.train()\n",
    "\n",
    "    g_losses, d_losses, accuracies = [], [], []\n",
    "\n",
    "    for epoch in range(epochs):\n",
    "        epoch_g_loss = 0\n",
    "        epoch_d_loss = 0\n",
    "        correct_predictions = 0\n",
    "        total_samples = 0\n",
    "\n",
    "        for i, (frame1, frame2, frame3) in enumerate(dataloader):\n",
    "            frame1, frame2, frame3 = frame1.to(DEVICE), frame2.to(DEVICE), frame3.to(DEVICE)\n",
    "            \n",
    "            # Adversarial ground truths\n",
    "            valid = torch.ones(frame2.size(0), 1).to(DEVICE)\n",
    "            fake = torch.zeros(frame2.size(0), 1).to(DEVICE)\n",
    "\n",
    "            # Train Generator\n",
    "            optimizer_G.zero_grad()\n",
    "            gen_middle = generator(frame1, frame3)\n",
    "            g_adv_loss = adversarial_loss(discriminator(gen_middle), valid)\n",
    "            g_recon_loss = reconstruction_loss(gen_middle, frame2)\n",
    "            g_loss = g_adv_loss + 0.1 * g_recon_loss\n",
    "            g_loss.backward()\n",
    "            optimizer_G.step()\n",
    "\n",
    "            # Train Discriminator\n",
    "            optimizer_D.zero_grad()\n",
    "            real_loss = adversarial_loss(discriminator(frame2), valid)\n",
    "            fake_loss = adversarial_loss(discriminator(gen_middle.detach()), fake)\n",
    "            d_loss = (real_loss + fake_loss) / 2\n",
    "            d_loss.backward()\n",
    "            optimizer_D.step()\n",
    "\n",
    "            # Track losses\n",
    "            epoch_g_loss += g_loss.item()\n",
    "            epoch_d_loss += d_loss.item()\n",
    "\n",
    "            # Track accuracy\n",
    "            with torch.no_grad():\n",
    "                pred_real = discriminator(frame2).round()\n",
    "                pred_fake = discriminator(gen_middle).round()\n",
    "                correct_predictions += (pred_real == valid).sum().item() + (pred_fake == fake).sum().item()\n",
    "                total_samples += 2 * frame2.size(0)\n",
    "\n",
    "            # print(f\"[Epoch {epoch+1}/{epochs}] [Batch {i+1}/{len(dataloader)}] [D loss: {d_loss.item():.4f}] [G loss: {g_loss.item():.4f}]\")\n",
    "\n",
    "        # Calculate average losses and accuracy\n",
    "        avg_g_loss = epoch_g_loss / len(dataloader)\n",
    "        avg_d_loss = epoch_d_loss / len(dataloader)\n",
    "        accuracy = correct_predictions / total_samples\n",
    "\n",
    "        # Store metrics\n",
    "        g_losses.append(avg_g_loss)\n",
    "        d_losses.append(avg_d_loss)\n",
    "        accuracies.append(accuracy)\n",
    "\n",
    "        print(f\"Epoch {epoch+1}: Generator Loss = {avg_g_loss:.4f}, Discriminator Loss = {avg_d_loss:.4f}, Accuracy = {accuracy:.4f}\")\n",
    "\n",
    "    # Save models at the end of training\n",
    "    torch.save(generator.state_dict(), os.path.join(save_path, \"generator.pth\"))\n",
    "    torch.save(discriminator.state_dict(), os.path.join(save_path, \"discriminator.pth\"))\n",
    "    print(f\"Models saved to {save_path}\")\n",
    "\n",
    "    return g_losses, d_losses, accuracies\n",
    "\n",
    "# Plotting Function\n",
    "def plot_metrics(g_losses, d_losses, accuracies):\n",
    "    epochs = range(1, len(g_losses) + 1)\n",
    "\n",
    "    # Plot losses\n",
    "    plt.figure(figsize=(12, 6))\n",
    "    plt.subplot(1, 2, 1)\n",
    "    plt.plot(epochs, g_losses, label=\"Generator Loss\")\n",
    "    plt.plot(epochs, d_losses, label=\"Discriminator Loss\")\n",
    "    plt.xlabel(\"Epoch\")\n",
    "    plt.ylabel(\"Loss\")\n",
    "    plt.title(\"Loss over Epochs\")\n",
    "    plt.legend()\n",
    "\n",
    "    # Plot accuracy\n",
    "    plt.subplot(1, 2, 2)\n",
    "    plt.plot(epochs, accuracies, label=\"Accuracy\", color=\"green\")\n",
    "    plt.xlabel(\"Epoch\")\n",
    "    plt.ylabel(\"Accuracy\")\n",
    "    plt.title(\"Accuracy over Epochs\")\n",
    "    plt.legend()\n",
    "\n",
    "    plt.tight_layout()\n",
    "    plt.show()"
   ]
  },
  {
   "cell_type": "code",
   "execution_count": 10,
   "metadata": {
    "_cell_guid": "b1076dfc-b9ad-4769-8c92-a6c4dae69d19",
    "_uuid": "8f2839f25d086af736a60e9eeb907d3b93b6e0e5",
    "execution": {
     "iopub.execute_input": "2024-12-03T14:02:50.314805Z",
     "iopub.status.busy": "2024-12-03T14:02:50.314541Z",
     "iopub.status.idle": "2024-12-03T14:03:40.406840Z",
     "shell.execute_reply": "2024-12-03T14:03:40.406096Z",
     "shell.execute_reply.started": "2024-12-03T14:02:50.314780Z"
    },
    "trusted": true
   },
   "outputs": [],
   "source": [
    "# Load dataset\n",
    "base_dir = \"datasets/train_10k\"\n",
    "image_paths = load_dataset(base_dir)"
   ]
  },
  {
   "cell_type": "code",
   "execution_count": 11,
   "metadata": {
    "_cell_guid": "b1076dfc-b9ad-4769-8c92-a6c4dae69d19",
    "_uuid": "8f2839f25d086af736a60e9eeb907d3b93b6e0e5",
    "execution": {
     "iopub.execute_input": "2024-12-03T14:03:40.408157Z",
     "iopub.status.busy": "2024-12-03T14:03:40.407898Z",
     "iopub.status.idle": "2024-12-03T14:03:40.640117Z",
     "shell.execute_reply": "2024-12-03T14:03:40.638920Z",
     "shell.execute_reply.started": "2024-12-03T14:03:40.408130Z"
    },
    "trusted": true
   },
   "outputs": [],
   "source": [
    "transform = transforms.Compose([\n",
    "        transforms.Resize((IMG_SIZE, IMG_SIZE)),\n",
    "        transforms.ToTensor()\n",
    "    ])\n",
    "dataset = FrameDataset(image_paths, transform)\n",
    "dataloader = DataLoader(dataset, batch_size=BATCH_SIZE, shuffle=True)\n",
    "\n",
    "# Initialize models\n",
    "generator = Generator().to(DEVICE)\n",
    "discriminator = Discriminator().to(DEVICE)\n",
    "\n",
    "# Optimizers\n",
    "optimizer_G = optim.Adam(generator.parameters(), lr=LEARNING_RATE, betas=(0.5, 0.999))\n",
    "optimizer_D = optim.Adam(discriminator.parameters(), lr=LEARNING_RATE, betas=(0.5, 0.999))"
   ]
  },
  {
   "cell_type": "code",
   "execution_count": 13,
   "metadata": {
    "_cell_guid": "b1076dfc-b9ad-4769-8c92-a6c4dae69d19",
    "_uuid": "8f2839f25d086af736a60e9eeb907d3b93b6e0e5",
    "execution": {
     "iopub.execute_input": "2024-12-03T14:03:40.642652Z",
     "iopub.status.busy": "2024-12-03T14:03:40.642309Z",
     "iopub.status.idle": "2024-12-03T23:18:04.071449Z",
     "shell.execute_reply": "2024-12-03T23:18:04.070553Z",
     "shell.execute_reply.started": "2024-12-03T14:03:40.642625Z"
    },
    "trusted": true
   },
   "outputs": [
    {
     "name": "stdout",
     "output_type": "stream",
     "text": [
      "Epoch 1: Generator Loss = 3.1664, Discriminator Loss = 0.2887, Accuracy = 0.9459\n",
      "Epoch 2: Generator Loss = 3.2355, Discriminator Loss = 0.3443, Accuracy = 0.9387\n",
      "Epoch 3: Generator Loss = 2.8069, Discriminator Loss = 0.3779, Accuracy = 0.9288\n",
      "Epoch 4: Generator Loss = 2.4316, Discriminator Loss = 0.3578, Accuracy = 0.9146\n",
      "Epoch 5: Generator Loss = 2.3657, Discriminator Loss = 0.3464, Accuracy = 0.9198\n",
      "Epoch 6: Generator Loss = 1.8209, Discriminator Loss = 0.4334, Accuracy = 0.8824\n",
      "Epoch 7: Generator Loss = 2.0836, Discriminator Loss = 0.4135, Accuracy = 0.9017\n",
      "Epoch 8: Generator Loss = 1.7881, Discriminator Loss = 0.4072, Accuracy = 0.8921\n",
      "Epoch 9: Generator Loss = 2.2278, Discriminator Loss = 0.3451, Accuracy = 0.9223\n",
      "Epoch 10: Generator Loss = 2.2603, Discriminator Loss = 0.3537, Accuracy = 0.9180\n",
      "Epoch 11: Generator Loss = 2.0910, Discriminator Loss = 0.3569, Accuracy = 0.9164\n",
      "Epoch 12: Generator Loss = 2.0833, Discriminator Loss = 0.3640, Accuracy = 0.9169\n",
      "Epoch 13: Generator Loss = 2.2497, Discriminator Loss = 0.3465, Accuracy = 0.9184\n",
      "Epoch 14: Generator Loss = 2.0789, Discriminator Loss = 0.3678, Accuracy = 0.9113\n",
      "Epoch 15: Generator Loss = 1.9678, Discriminator Loss = 0.3837, Accuracy = 0.9030\n",
      "Epoch 16: Generator Loss = 1.7437, Discriminator Loss = 0.4374, Accuracy = 0.8870\n",
      "Epoch 17: Generator Loss = 1.5708, Discriminator Loss = 0.4823, Accuracy = 0.8628\n",
      "Epoch 18: Generator Loss = 1.5063, Discriminator Loss = 0.4833, Accuracy = 0.8625\n",
      "Epoch 19: Generator Loss = 1.4661, Discriminator Loss = 0.4809, Accuracy = 0.8601\n",
      "Epoch 20: Generator Loss = 1.4624, Discriminator Loss = 0.4723, Accuracy = 0.8663\n",
      "Epoch 21: Generator Loss = 11.8288, Discriminator Loss = 0.2217, Accuracy = 0.9672\n",
      "Epoch 22: Generator Loss = 1.4801, Discriminator Loss = 0.4682, Accuracy = 0.8652\n",
      "Epoch 23: Generator Loss = 1.4234, Discriminator Loss = 0.4746, Accuracy = 0.8611\n",
      "Epoch 24: Generator Loss = 1.4288, Discriminator Loss = 0.4759, Accuracy = 0.8598\n",
      "Epoch 25: Generator Loss = 1.4412, Discriminator Loss = 0.4659, Accuracy = 0.8671\n",
      "Epoch 26: Generator Loss = 1.4622, Discriminator Loss = 0.4642, Accuracy = 0.8720\n",
      "Epoch 27: Generator Loss = 1.4823, Discriminator Loss = 0.4501, Accuracy = 0.8760\n",
      "Epoch 28: Generator Loss = 1.4888, Discriminator Loss = 0.4497, Accuracy = 0.8699\n",
      "Epoch 29: Generator Loss = 1.5083, Discriminator Loss = 0.4407, Accuracy = 0.8803\n",
      "Epoch 30: Generator Loss = 1.5598, Discriminator Loss = 0.4308, Accuracy = 0.8835\n",
      "Epoch 31: Generator Loss = 1.5355, Discriminator Loss = 0.4332, Accuracy = 0.8830\n",
      "Epoch 32: Generator Loss = 1.5537, Discriminator Loss = 0.4361, Accuracy = 0.8822\n",
      "Epoch 33: Generator Loss = 1.5588, Discriminator Loss = 0.4232, Accuracy = 0.8851\n",
      "Epoch 34: Generator Loss = 1.5833, Discriminator Loss = 0.4202, Accuracy = 0.8882\n",
      "Epoch 35: Generator Loss = 1.5902, Discriminator Loss = 0.4185, Accuracy = 0.8958\n",
      "Epoch 36: Generator Loss = 1.6259, Discriminator Loss = 0.4080, Accuracy = 0.8900\n",
      "Epoch 37: Generator Loss = 1.6129, Discriminator Loss = 0.4197, Accuracy = 0.8908\n",
      "Epoch 38: Generator Loss = 1.6578, Discriminator Loss = 0.4010, Accuracy = 0.8923\n",
      "Epoch 39: Generator Loss = 1.6701, Discriminator Loss = 0.3986, Accuracy = 0.8939\n",
      "Epoch 40: Generator Loss = 1.6937, Discriminator Loss = 0.3943, Accuracy = 0.8973\n",
      "Epoch 41: Generator Loss = 1.7203, Discriminator Loss = 0.3964, Accuracy = 0.8941\n",
      "Epoch 42: Generator Loss = 1.7571, Discriminator Loss = 0.3830, Accuracy = 0.9005\n",
      "Epoch 43: Generator Loss = 1.7370, Discriminator Loss = 0.4085, Accuracy = 0.8947\n",
      "Epoch 44: Generator Loss = 1.7502, Discriminator Loss = 0.3766, Accuracy = 0.9042\n",
      "Epoch 45: Generator Loss = 1.7611, Discriminator Loss = 0.3904, Accuracy = 0.8987\n",
      "Epoch 46: Generator Loss = 1.7727, Discriminator Loss = 0.3855, Accuracy = 0.8960\n",
      "Epoch 47: Generator Loss = 1.7908, Discriminator Loss = 0.3849, Accuracy = 0.8996\n",
      "Epoch 48: Generator Loss = 1.8194, Discriminator Loss = 0.3693, Accuracy = 0.9025\n",
      "Epoch 49: Generator Loss = 1.8114, Discriminator Loss = 0.3851, Accuracy = 0.8975\n",
      "Epoch 50: Generator Loss = 1.8375, Discriminator Loss = 0.3743, Accuracy = 0.9012\n",
      "Models saved to Saving/\n"
     ]
    }
   ],
   "source": [
    " # Train models\n",
    "g_losses, d_losses, accuracies = train(generator, discriminator, dataloader, EPOCHS, optimizer_G, optimizer_D,'Saving/')"
   ]
  },
  {
   "cell_type": "code",
   "execution_count": null,
   "metadata": {
    "_cell_guid": "b1076dfc-b9ad-4769-8c92-a6c4dae69d19",
    "_uuid": "8f2839f25d086af736a60e9eeb907d3b93b6e0e5",
    "execution": {
     "iopub.execute_input": "2024-12-03T23:18:04.073249Z",
     "iopub.status.busy": "2024-12-03T23:18:04.072949Z",
     "iopub.status.idle": "2024-12-03T23:18:04.573334Z",
     "shell.execute_reply": "2024-12-03T23:18:04.572562Z",
     "shell.execute_reply.started": "2024-12-03T23:18:04.073219Z"
    },
    "trusted": true
   },
   "outputs": [
    {
     "data": {
      "image/png": "[encoded data removed]",
      "text/plain": [
       "<Figure size 1200x600 with 2 Axes>"
      ]
     },
     "metadata": {},
     "output_type": "display_data"
    }
   ],
   "source": [
    "    # Plot metrics\n",
    "plot_metrics(g_losses, d_losses, accuracies)"
   ]
  },
  {
   "cell_type": "code",
   "execution_count": 14,
   "metadata": {},
   "outputs": [
    {
     "name": "stderr",
     "output_type": "stream",
     "text": [
      "/tmp/ipykernel_96172/3607868809.py:1: FutureWarning: You are using `torch.load` with `weights_only=False` (the current default value), which uses the default pickle module implicitly. It is possible to construct malicious pickle data which will execute arbitrary code during unpickling (See https://github.com/pytorch/pytorch/blob/main/SECURITY.md#untrusted-models for more details). In a future release, the default value for `weights_only` will be flipped to `True`. This limits the functions that could be executed during unpickling. Arbitrary objects will no longer be allowed to be loaded via this mode unless they are explicitly allowlisted by the user via `torch.serialization.add_safe_globals`. We recommend you start setting `weights_only=True` for any use case where you don't have full control of the loaded file. Please open an issue on GitHub for any issues related to this experimental feature.\n",
      "  generator.load_state_dict(torch.load('/home/pcn/Desktop/Rafey/In-Between-Frame-Generation/Saving/generator.pth'))\n"
     ]
    },
    {
     "data": {
      "text/plain": [
       "Generator(\n",
       "  (encoder): Sequential(\n",
       "    (0): Conv2d(6, 64, kernel_size=(4, 4), stride=(2, 2), padding=(1, 1))\n",
       "    (1): ReLU()\n",
       "    (2): Conv2d(64, 128, kernel_size=(4, 4), stride=(2, 2), padding=(1, 1))\n",
       "    (3): ReLU()\n",
       "    (4): Conv2d(128, 256, kernel_size=(4, 4), stride=(2, 2), padding=(1, 1))\n",
       "    (5): ReLU()\n",
       "  )\n",
       "  (decoder): Sequential(\n",
       "    (0): ConvTranspose2d(256, 128, kernel_size=(4, 4), stride=(2, 2), padding=(1, 1))\n",
       "    (1): ReLU()\n",
       "    (2): ConvTranspose2d(128, 64, kernel_size=(4, 4), stride=(2, 2), padding=(1, 1))\n",
       "    (3): ReLU()\n",
       "    (4): ConvTranspose2d(64, 3, kernel_size=(4, 4), stride=(2, 2), padding=(1, 1))\n",
       "    (5): Sigmoid()\n",
       "  )\n",
       ")"
      ]
     },
     "execution_count": 14,
     "metadata": {},
     "output_type": "execute_result"
    }
   ],
   "source": [
    "generator.load_state_dict(torch.load('/home/pcn/Desktop/Rafey/In-Between-Frame-Generation/Saving/generator.pth'))\n",
    "generator.eval()\n"
   ]
  },
  {
   "cell_type": "code",
   "execution_count": 15,
   "metadata": {},
   "outputs": [
    {
     "name": "stdout",
     "output_type": "stream",
     "text": [
      "Mean Squared Error on Test Dataset: 0.0061\n"
     ]
    }
   ],
   "source": [
    "# Finding the MSE score for the test dataset\n",
    "def test_model(generator, dataloader):\n",
    "    total_mse = 0\n",
    "    total_samples = 0\n",
    "\n",
    "    with torch.no_grad():\n",
    "        for frame1, frame2, frame3 in dataloader:\n",
    "            frame1, frame2, frame3 = frame1.to(DEVICE), frame2.to(DEVICE), frame3.to(DEVICE)\n",
    "            gen_middle = generator(frame1, frame3)\n",
    "            mse = nn.MSELoss(reduction=\"sum\")(gen_middle, frame2)\n",
    "            total_mse += mse.item()\n",
    "            total_samples += frame2.numel()\n",
    "\n",
    "    avg_mse = total_mse / total_samples\n",
    "    return avg_mse\n",
    "\n",
    "# Load test dataset\n",
    "base_dir = \"/home/pcn/Desktop/Rafey/In-Between-Frame-Generation/datasets/test_2k_original\"\n",
    "test_image_paths = load_dataset(base_dir)\n",
    "test_dataset = FrameDataset(test_image_paths, transform)\n",
    "test_dataloader = DataLoader(test_dataset, batch_size=BATCH_SIZE, shuffle=False)\n",
    "\n",
    "# Test the model\n",
    "mse_score = test_model(generator, test_dataloader)\n",
    "print(f\"Mean Squared Error on Test Dataset: {mse_score:.4f}\")\n"
   ]
  },
  {
   "cell_type": "code",
   "execution_count": null,
   "metadata": {},
   "outputs": [],
   "source": []
  }
 ],
 "metadata": {
  "kaggle": {
   "accelerator": "gpu",
   "dataSources": [
    {
     "datasetId": 6211554,
     "sourceId": 10076721,
     "sourceType": "datasetVersion"
    }
   ],
   "dockerImageVersionId": 30805,
   "isGpuEnabled": true,
   "isInternetEnabled": true,
   "language": "python",
   "sourceType": "notebook"
  },
  "kernelspec": {
   "display_name": "venv",
   "language": "python",
   "name": "python3"
  },
  "language_info": {
   "codemirror_mode": {
    "name": "ipython",
    "version": 3
   },
   "file_extension": ".py",
   "mimetype": "text/x-python",
   "name": "python",
   "nbconvert_exporter": "python",
   "pygments_lexer": "ipython3",
   "version": "3.10.12"
  }
 },
 "nbformat": 4,
 "nbformat_minor": 4
}
